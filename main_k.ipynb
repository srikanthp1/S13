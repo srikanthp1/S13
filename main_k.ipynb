{
 "cells": [
  {
   "cell_type": "code",
   "execution_count": null,
   "metadata": {},
   "outputs": [],
   "source": [
    "!pip install pytorch_lightning"
   ]
  },
  {
   "cell_type": "code",
   "execution_count": 1,
   "metadata": {},
   "outputs": [],
   "source": [
    "# imports\n",
    "import os\n",
    "\n",
    "import torch\n",
    "from pytorch_lightning import LightningModule, Trainer\n",
    "from torch import nn\n",
    "from torch.nn import functional as F\n",
    "from torch.utils.data import DataLoader, random_split\n",
    "from torchmetrics import Accuracy\n",
    "from torchvision import transforms\n",
    "from torchvision.datasets import CIFAR10\n",
    "\n",
    "import config\n",
    "import torch\n",
    "import torch.optim as optim\n",
    "\n",
    "from model import YOLOv3\n",
    "from tqdm import tqdm\n",
    "from utils import (\n",
    "    mean_average_precision,\n",
    "    cells_to_bboxes,\n",
    "    get_evaluation_bboxes,\n",
    "    save_checkpoint,\n",
    "    load_checkpoint,\n",
    "    check_class_accuracy,\n",
    "    get_loaders,\n",
    "    plot_couple_examples\n",
    ")\n",
    "from loss import YoloLoss\n",
    "from pytorch_lightning.callbacks import ModelSummary\n",
    "from pytorch_lightning import LightningModule, Trainer\n",
    "import warnings\n",
    "warnings.filterwarnings(\"ignore\")\n",
    "\n",
    "torch.backends.cudnn.benchmark = True"
   ]
  },
  {
   "cell_type": "code",
   "execution_count": null,
   "metadata": {},
   "outputs": [],
   "source": [
    "from pytorch_lightning.callbacks import ModelSummary\n",
    "\n",
    "\n",
    "yolo_model = YOLOv3(num_classes=config.NUM_CLASSES).to(config.DEVICE)\n",
    "\n",
    "# init Dataloader from MNIST Dataloader\n",
    "# train_ds = CIFAR10(PATH_DATASETS, train=True, download=True, transform= transforms.ToTensor())\n",
    "# train_loader = DataLoader(train_ds, batch_size=BATCH_SIZE)\n",
    "\n",
    "# initialize the trainer\n",
    "trainer = Trainer(\n",
    "    callbacks=[ModelSummary(max_depth=-1)],\n",
    "    precision = 16,\n",
    "    devices=1,\n",
    "    accelerator=\"gpu\",\n",
    "    max_epochs = 40\n",
    ")\n",
    "\n",
    "# Train the model\n",
    "trainer.fit(yolo_model)"
   ]
  }
 ],
 "metadata": {
  "kernelspec": {
   "display_name": "base",
   "language": "python",
   "name": "python3"
  },
  "language_info": {
   "codemirror_mode": {
    "name": "ipython",
    "version": 3
   },
   "file_extension": ".py",
   "mimetype": "text/x-python",
   "name": "python",
   "nbconvert_exporter": "python",
   "pygments_lexer": "ipython3",
   "version": "3.9.7"
  },
  "orig_nbformat": 4
 },
 "nbformat": 4,
 "nbformat_minor": 2
}
